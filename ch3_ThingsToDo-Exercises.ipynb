{
 "cells": [
  {
   "cell_type": "markdown",
   "id": "1c832ab9-d9f7-4296-b3bc-64a88ce33886",
   "metadata": {},
   "source": [
    "SDEV 220 - M1 - Programming Assignment\n",
    "Shadow R.\n",
    "06.10.2023"
   ]
  },
  {
   "cell_type": "markdown",
   "id": "b2a9966f-cff3-43a8-9d99-78028e6172cf",
   "metadata": {},
   "source": [
    "3.1 How many seconds are in an hour? Use the interactive interpreter as a calculator and multiply the number of seconds in a minute (60) by the number of minutes in an hour (also 60)."
   ]
  },
  {
   "cell_type": "code",
   "execution_count": 1,
   "id": "70a9c4d1-0369-44e2-8d8e-72461b6f090a",
   "metadata": {},
   "outputs": [
    {
     "data": {
      "text/plain": [
       "3600"
      ]
     },
     "execution_count": 1,
     "metadata": {},
     "output_type": "execute_result"
    }
   ],
   "source": [
    "60 * 60"
   ]
  },
  {
   "cell_type": "markdown",
   "id": "cedc105c-fd84-4821-bcf4-6276e631c3a8",
   "metadata": {},
   "source": [
    "There are 3,600 seconds in an hour."
   ]
  },
  {
   "cell_type": "markdown",
   "id": "789da5b2-db0a-4f8d-ac9e-6a03e5d482a5",
   "metadata": {},
   "source": [
    "3.2 Assign the result from the previous task (seconds in an hour) to a variable called seconds_per_hour."
   ]
  },
  {
   "cell_type": "code",
   "execution_count": 2,
   "id": "8755a872-91bc-4edd-b793-11266b68a689",
   "metadata": {},
   "outputs": [],
   "source": [
    "seconds_per_hour = 60 * 60"
   ]
  },
  {
   "cell_type": "markdown",
   "id": "20565b30-c80d-4049-a5c2-78d8405a4f14",
   "metadata": {},
   "source": [
    "3.3 How many seconds are in a day? Use your seconds_per_hour variable."
   ]
  },
  {
   "cell_type": "code",
   "execution_count": 3,
   "id": "5064dedc-7247-4cc5-9370-17626bffa629",
   "metadata": {},
   "outputs": [
    {
     "data": {
      "text/plain": [
       "86400"
      ]
     },
     "execution_count": 3,
     "metadata": {},
     "output_type": "execute_result"
    }
   ],
   "source": [
    "seconds_per_hour * 24"
   ]
  },
  {
   "cell_type": "markdown",
   "id": "4347f570-76ef-42ee-bf23-fb70a8cbbb37",
   "metadata": {},
   "source": [
    "There are 86,400 seconds in a day."
   ]
  },
  {
   "cell_type": "markdown",
   "id": "8a49a261-21aa-4ebc-be1d-1196b919bf79",
   "metadata": {},
   "source": [
    "3.4 Calculate seconds per day again, but this time save the result in a variable called seconds_per_day."
   ]
  },
  {
   "cell_type": "code",
   "execution_count": 4,
   "id": "a770356a-f8fc-4b38-bc4c-13daf6a2e863",
   "metadata": {},
   "outputs": [],
   "source": [
    "seconds_per_day = seconds_per_hour * 24"
   ]
  },
  {
   "cell_type": "markdown",
   "id": "967ced7f-27ab-4883-930a-89270be71feb",
   "metadata": {},
   "source": [
    "3.5 Divide seconds_per_day by seconds_per_hour. Use floating-point (/) division."
   ]
  },
  {
   "cell_type": "code",
   "execution_count": 5,
   "id": "14a6f8b2-8aed-4232-9738-3a36bc35e00b",
   "metadata": {},
   "outputs": [
    {
     "data": {
      "text/plain": [
       "24.0"
      ]
     },
     "execution_count": 5,
     "metadata": {},
     "output_type": "execute_result"
    }
   ],
   "source": [
    "seconds_per_day / seconds_per_hour"
   ]
  },
  {
   "cell_type": "markdown",
   "id": "a8bd104f-80a6-4aea-9872-474e46068fa5",
   "metadata": {},
   "source": [
    "3.6 Divide seconds_per_day by seconds_per_hour, using integer (//) division. Did this number agree with the floating-point value from the previous question, aside from the final .0?"
   ]
  },
  {
   "cell_type": "code",
   "execution_count": 6,
   "id": "2afa56d5-95d2-4814-a674-a5895bb5f278",
   "metadata": {},
   "outputs": [
    {
     "data": {
      "text/plain": [
       "24"
      ]
     },
     "execution_count": 6,
     "metadata": {},
     "output_type": "execute_result"
    }
   ],
   "source": [
    "seconds_per_day // seconds_per_hour"
   ]
  },
  {
   "cell_type": "markdown",
   "id": "9e202b97-77ed-466e-9108-e3f2075f4ccd",
   "metadata": {},
   "source": [
    "Yes, they both hold the same value of 24."
   ]
  }
 ],
 "metadata": {
  "kernelspec": {
   "display_name": "Python 3 (ipykernel)",
   "language": "python",
   "name": "python3"
  },
  "language_info": {
   "codemirror_mode": {
    "name": "ipython",
    "version": 3
   },
   "file_extension": ".py",
   "mimetype": "text/x-python",
   "name": "python",
   "nbconvert_exporter": "python",
   "pygments_lexer": "ipython3",
   "version": "3.10.9"
  }
 },
 "nbformat": 4,
 "nbformat_minor": 5
}
